{
 "cells": [
  {
   "cell_type": "markdown",
   "id": "47cc0fa6",
   "metadata": {},
   "source": [
    "# Functions Practice"
   ]
  },
  {
   "cell_type": "code",
   "execution_count": null,
   "id": "45e62172",
   "metadata": {},
   "outputs": [],
   "source": []
  },
  {
   "cell_type": "markdown",
   "id": "040016bf",
   "metadata": {},
   "source": [
    "Create a function that takes a name, and incorporates the name into the lyrics of \"Happy Birthday.\" "
   ]
  },
  {
   "cell_type": "code",
   "execution_count": 13,
   "id": "ba5466b2",
   "metadata": {
    "collapsed": true
   },
   "outputs": [
    {
     "name": "stdout",
     "output_type": "stream",
     "text": [
      "Happy Birthday to you! \n",
      "Happy Birthday to you! \n",
      "Happy Birthday, \n",
      "dear  Julian \n",
      "Happy Birthday to you!\n"
     ]
    }
   ],
   "source": [
    "def Birthday(name):\n",
    "  \n",
    "Birthday('Your Name')"
   ]
  },
  {
   "cell_type": "code",
   "execution_count": null,
   "id": "bce2e18c",
   "metadata": {},
   "outputs": [],
   "source": []
  },
  {
   "cell_type": "markdown",
   "id": "136fc7a0",
   "metadata": {},
   "source": [
    "Create a function that takes any number and multiplies that value by 10."
   ]
  },
  {
   "cell_type": "raw",
   "id": "54c4a2ad",
   "metadata": {},
   "source": []
  },
  {
   "cell_type": "markdown",
   "id": "645e410d",
   "metadata": {},
   "source": [
    "\n",
    "Create a function that replaces every vowel in a name with the letter 'x'. "
   ]
  },
  {
   "cell_type": "code",
   "execution_count": 2,
   "id": "3fc8631c",
   "metadata": {
    "collapsed": true
   },
   "outputs": [
    {
     "data": {
      "text/plain": [
       "'Jxlxxn'"
      ]
     },
     "execution_count": 2,
     "metadata": {},
     "output_type": "execute_result"
    }
   ],
   "source": [
    "def replaceVowelsWithx(test_str):\n",
    "  \n",
    "    # string of vowels\n",
    "    vowels = 'AEIOUaeiou'\n",
    "  \n",
    "    # iterating to check vowels in string\n",
    "\n",
    "  \n",
    "        # replacing vowel with the specified character\n",
    "\n",
    "  \n",
    "\n",
    "\n",
    "\n",
    "replaceVowelsWithx(\"Your Name\")"
   ]
  },
  {
   "cell_type": "code",
   "execution_count": null,
   "id": "9dd23af0",
   "metadata": {},
   "outputs": [],
   "source": []
  },
  {
   "cell_type": "markdown",
   "id": "e41eaab1",
   "metadata": {},
   "source": [
    "Create a function that returns whether a the values in a list of numbers is even or odd. "
   ]
  },
  {
   "cell_type": "code",
   "execution_count": null,
   "id": "577bf3e7",
   "metadata": {},
   "outputs": [],
   "source": []
  },
  {
   "cell_type": "markdown",
   "id": "fe4e6af8",
   "metadata": {},
   "source": [
    "## Challenging "
   ]
  },
  {
   "cell_type": "markdown",
   "id": "5ed27b50",
   "metadata": {},
   "source": [
    "Write a short program that prints each number from 1 to 100 on a new line. \n",
    "\n",
    "For each multiple of 3, print \"Fizz\" instead of the number. \n",
    "\n",
    "For each multiple of 5, print \"Buzz\" instead of the number. \n",
    "\n",
    "For numbers which are multiples of both 3 and 5, print \"FizzBuzz\" instead of the number.\n"
   ]
  },
  {
   "cell_type": "code",
   "execution_count": null,
   "id": "c1ed6a52",
   "metadata": {},
   "outputs": [],
   "source": []
  },
  {
   "cell_type": "markdown",
   "id": "b5d9fd12",
   "metadata": {},
   "source": [
    "Write a function that takes in a string, and returns only non-vowel characters. \n",
    "\n",
    "(\"This is a message\") --> (\")"
   ]
  },
  {
   "cell_type": "code",
   "execution_count": null,
   "id": "a9f1b212",
   "metadata": {},
   "outputs": [],
   "source": []
  },
  {
   "cell_type": "markdown",
   "id": "6ca3175d",
   "metadata": {},
   "source": [
    "Write a function that determines whether or not a number is a prime. A number is a prime if it is only divisible by 1 and itself. "
   ]
  },
  {
   "cell_type": "code",
   "execution_count": null,
   "id": "0a941cf7",
   "metadata": {},
   "outputs": [],
   "source": []
  },
  {
   "cell_type": "code",
   "execution_count": null,
   "id": "8f484380",
   "metadata": {},
   "outputs": [],
   "source": []
  }
 ],
 "metadata": {
  "kernelspec": {
   "display_name": "Python 3",
   "language": "python",
   "name": "python3"
  },
  "language_info": {
   "codemirror_mode": {
    "name": "ipython",
    "version": 3
   },
   "file_extension": ".py",
   "mimetype": "text/x-python",
   "name": "python",
   "nbconvert_exporter": "python",
   "pygments_lexer": "ipython3",
   "version": "3.8.8"
  }
 },
 "nbformat": 4,
 "nbformat_minor": 5
}
