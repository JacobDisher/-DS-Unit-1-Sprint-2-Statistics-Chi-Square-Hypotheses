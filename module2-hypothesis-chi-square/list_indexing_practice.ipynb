{
 "cells": [
  {
   "cell_type": "markdown",
   "id": "77e8325c",
   "metadata": {},
   "source": [
    "# Filtering and Dictionaries\n",
    "Exercises to practice"
   ]
  },
  {
   "cell_type": "code",
   "execution_count": 1,
   "id": "d93d467c",
   "metadata": {},
   "outputs": [],
   "source": [
    "animals = ['dog', 'cat', 'dolphin','cheetah']"
   ]
  },
  {
   "cell_type": "code",
   "execution_count": 2,
   "id": "e84ab927",
   "metadata": {},
   "outputs": [],
   "source": [
    "#use the append method to add the string gorilla to your list. "
   ]
  },
  {
   "cell_type": "code",
   "execution_count": 3,
   "id": "d0305eba",
   "metadata": {},
   "outputs": [],
   "source": [
    "\n",
    "#use the remove method to remove the dog"
   ]
  },
  {
   "cell_type": "code",
   "execution_count": 4,
   "id": "8e009a86",
   "metadata": {},
   "outputs": [],
   "source": [
    "#use a for loop to capitalize the \n",
    "#first letter of every item in the animals list\n"
   ]
  },
  {
   "cell_type": "code",
   "execution_count": 5,
   "id": "b978faea",
   "metadata": {},
   "outputs": [],
   "source": [
    "#add the following list to the animals list\n",
    "\n",
    "more_animals = ['cow', 'birds', \n",
    "                ['canary',['robin', 'pelican']], \n",
    "                ('tigers', 'lions')]"
   ]
  },
  {
   "cell_type": "code",
   "execution_count": 6,
   "id": "f42e560a",
   "metadata": {},
   "outputs": [],
   "source": [
    "#how many items are in the animals list now?\n"
   ]
  },
  {
   "cell_type": "code",
   "execution_count": 7,
   "id": "eb772e72",
   "metadata": {},
   "outputs": [],
   "source": [
    "#using list and string indexing, return only the first three letters of word 'robin'\n"
   ]
  },
  {
   "cell_type": "markdown",
   "id": "ddb4ad98",
   "metadata": {},
   "source": [
    "# Dictionary"
   ]
  },
  {
   "cell_type": "code",
   "execution_count": 8,
   "id": "b9ff798f",
   "metadata": {},
   "outputs": [],
   "source": [
    "animal_dict = {\"Birds\":\"fly\", \"Dogs\":\"bark\", \"Cats\":\"meow\", \"Fish\":\"swim\"}"
   ]
  },
  {
   "cell_type": "code",
   "execution_count": 9,
   "id": "349c6768",
   "metadata": {},
   "outputs": [],
   "source": [
    "#add a new animal key and value to your dictionary called \"Cow\":\"moo\"\n"
   ]
  },
  {
   "cell_type": "code",
   "execution_count": 10,
   "id": "4641f4e7",
   "metadata": {},
   "outputs": [],
   "source": [
    "#change the value of 'Birds' to 'sing'\n"
   ]
  },
  {
   "cell_type": "code",
   "execution_count": 11,
   "id": "72b9ae7b",
   "metadata": {},
   "outputs": [],
   "source": [
    "#Extract the keys of the dictionary object and convert the values to a list.\n",
    "\n"
   ]
  },
  {
   "cell_type": "markdown",
   "id": "f67b6b0c",
   "metadata": {},
   "source": [
    "# Loop Challenge"
   ]
  },
  {
   "cell_type": "code",
   "execution_count": 12,
   "id": "ced5fd3d",
   "metadata": {},
   "outputs": [],
   "source": [
    "#Challenge\n",
    "#use a for loop to capitalize the \n",
    "#first letter of every item in the updated animals list\n"
   ]
  },
  {
   "cell_type": "code",
   "execution_count": null,
   "id": "cc1b6759",
   "metadata": {},
   "outputs": [],
   "source": []
  },
  {
   "cell_type": "code",
   "execution_count": null,
   "id": "ada46d4a",
   "metadata": {},
   "outputs": [],
   "source": []
  }
 ],
 "metadata": {
  "kernelspec": {
   "display_name": "Python 3",
   "language": "python",
   "name": "python3"
  },
  "language_info": {
   "codemirror_mode": {
    "name": "ipython",
    "version": 3
   },
   "file_extension": ".py",
   "mimetype": "text/x-python",
   "name": "python",
   "nbconvert_exporter": "python",
   "pygments_lexer": "ipython3",
   "version": "3.8.8"
  }
 },
 "nbformat": 4,
 "nbformat_minor": 5
}
