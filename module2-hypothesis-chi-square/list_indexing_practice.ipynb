{
 "cells": [
  {
   "cell_type": "markdown",
   "id": "77e8325c",
   "metadata": {},
   "source": [
    "# Filtering and Dictionaries\n",
    "Exercises to practice"
   ]
  },
  {
   "cell_type": "code",
   "execution_count": 41,
   "id": "d93d467c",
   "metadata": {},
   "outputs": [],
   "source": [
    "animals = ['dog', 'cat', 'dolphin','cheetah']"
   ]
  },
  {
   "cell_type": "code",
   "execution_count": 42,
   "id": "e84ab927",
   "metadata": {},
   "outputs": [],
   "source": [
    "#use the append method to add a gorilla to your list. \n"
   ]
  },
  {
   "cell_type": "code",
   "execution_count": 43,
   "id": "d0305eba",
   "metadata": {},
   "outputs": [],
   "source": [
    "#use the remove method to remove the dog\n"
   ]
  },
  {
   "cell_type": "code",
   "execution_count": 45,
   "id": "8e009a86",
   "metadata": {},
   "outputs": [],
   "source": [
    "#use a for loop to capitalize the \n",
    "#first letter of every item in the animals list\n"
   ]
  },
  {
   "cell_type": "code",
   "execution_count": 49,
   "id": "b978faea",
   "metadata": {},
   "outputs": [],
   "source": [
    "#add the following list to the animals list\n",
    "\n",
    "more_animals = ['cow', 'birds', \n",
    "                ['canary',['robin', 'pelican']], \n",
    "                ('tigers', 'lions')]\n"
   ]
  },
  {
   "cell_type": "code",
   "execution_count": 50,
   "id": "f42e560a",
   "metadata": {},
   "outputs": [
    {
     "data": {
      "text/plain": [
       "8"
      ]
     },
     "execution_count": 50,
     "metadata": {},
     "output_type": "execute_result"
    }
   ],
   "source": [
    "#how many items are in the animals list now?\n"
   ]
  },
  {
   "cell_type": "code",
   "execution_count": 58,
   "id": "eb772e72",
   "metadata": {},
   "outputs": [
    {
     "data": {
      "text/plain": [
       "'rob'"
      ]
     },
     "execution_count": 58,
     "metadata": {},
     "output_type": "execute_result"
    }
   ],
   "source": [
    "#using list and string indexing, return only the first three letters of word 'robin'\n"
   ]
  },
  {
   "cell_type": "markdown",
   "id": "ddb4ad98",
   "metadata": {},
   "source": [
    "# Dictionary"
   ]
  },
  {
   "cell_type": "code",
   "execution_count": 47,
   "id": "b9ff798f",
   "metadata": {},
   "outputs": [],
   "source": [
    "animal_dict = {\"Birds\":\"fly\", \"Dogs\":\"bark\", \"Cats\":\"meow\", \"Fish\":\"swim\"}"
   ]
  },
  {
   "cell_type": "code",
   "execution_count": 60,
   "id": "349c6768",
   "metadata": {},
   "outputs": [
    {
     "data": {
      "text/plain": [
       "{'Birds': 'fly', 'Dogs': 'bark', 'Cats': 'meow', 'Fish': 'swim', 'Cow': 'moo'}"
      ]
     },
     "execution_count": 60,
     "metadata": {},
     "output_type": "execute_result"
    }
   ],
   "source": [
    "#add a new animal key and value to your dictionary called \"Cow\":\"moo\"\n"
   ]
  },
  {
   "cell_type": "code",
   "execution_count": 62,
   "id": "4641f4e7",
   "metadata": {},
   "outputs": [
    {
     "data": {
      "text/plain": [
       "{'Birds': 'sing', 'Dogs': 'bark', 'Cats': 'meow', 'Fish': 'swim', 'Cow': 'moo'}"
      ]
     },
     "execution_count": 62,
     "metadata": {},
     "output_type": "execute_result"
    }
   ],
   "source": [
    "#change the value of 'Birds' to 'sing'\n"
   ]
  },
  {
   "cell_type": "code",
   "execution_count": 66,
   "id": "72b9ae7b",
   "metadata": {},
   "outputs": [
    {
     "data": {
      "text/plain": [
       "['Birds', 'Dogs', 'Cats', 'Fish', 'Cow']"
      ]
     },
     "execution_count": 66,
     "metadata": {},
     "output_type": "execute_result"
    }
   ],
   "source": [
    "#Extract the keys of the dictionary object and convert the values to a list.\n",
    "\n"
   ]
  },
  {
   "cell_type": "markdown",
   "id": "f67b6b0c",
   "metadata": {},
   "source": [
    "# Loop Challenge"
   ]
  },
  {
   "cell_type": "code",
   "execution_count": 2,
   "id": "ced5fd3d",
   "metadata": {
    "collapsed": true
   },
   "outputs": [
    {
     "ename": "NameError",
     "evalue": "name 'animals' is not defined",
     "output_type": "error",
     "traceback": [
      "\u001b[0;31m---------------------------------------------------------------------------\u001b[0m",
      "\u001b[0;31mNameError\u001b[0m                                 Traceback (most recent call last)",
      "\u001b[0;32m<ipython-input-2-df4deaf19d29>\u001b[0m in \u001b[0;36m<module>\u001b[0;34m\u001b[0m\n\u001b[1;32m      4\u001b[0m \u001b[0mnew_animals\u001b[0m \u001b[0;34m=\u001b[0m \u001b[0;34m[\u001b[0m\u001b[0;34m]\u001b[0m\u001b[0;34m\u001b[0m\u001b[0;34m\u001b[0m\u001b[0m\n\u001b[1;32m      5\u001b[0m \u001b[0;34m\u001b[0m\u001b[0m\n\u001b[0;32m----> 6\u001b[0;31m \u001b[0;32mfor\u001b[0m \u001b[0mi\u001b[0m \u001b[0;32min\u001b[0m \u001b[0manimals\u001b[0m\u001b[0;34m:\u001b[0m\u001b[0;34m\u001b[0m\u001b[0;34m\u001b[0m\u001b[0m\n\u001b[0m\u001b[1;32m      7\u001b[0m     \u001b[0;32mif\u001b[0m \u001b[0mtype\u001b[0m\u001b[0;34m(\u001b[0m\u001b[0mi\u001b[0m\u001b[0;34m)\u001b[0m \u001b[0;34m==\u001b[0m \u001b[0mstr\u001b[0m\u001b[0;34m:\u001b[0m\u001b[0;34m\u001b[0m\u001b[0;34m\u001b[0m\u001b[0m\n\u001b[1;32m      8\u001b[0m         \u001b[0mnew_animals\u001b[0m\u001b[0;34m.\u001b[0m\u001b[0mappend\u001b[0m\u001b[0;34m(\u001b[0m\u001b[0mi\u001b[0m\u001b[0;34m.\u001b[0m\u001b[0mcapitalize\u001b[0m\u001b[0;34m(\u001b[0m\u001b[0;34m)\u001b[0m\u001b[0;34m)\u001b[0m\u001b[0;34m\u001b[0m\u001b[0;34m\u001b[0m\u001b[0m\n",
      "\u001b[0;31mNameError\u001b[0m: name 'animals' is not defined"
     ]
    }
   ],
   "source": [
    "#Challenge\n",
    "#use a for loop to capitalize the \n",
    "#first letter of every item in the updated animals list\n"
   ]
  },
  {
   "cell_type": "code",
   "execution_count": null,
   "id": "cc2f0026",
   "metadata": {},
   "outputs": [],
   "source": []
  }
 ],
 "metadata": {
  "kernelspec": {
   "display_name": "Python 3",
   "language": "python",
   "name": "python3"
  },
  "language_info": {
   "codemirror_mode": {
    "name": "ipython",
    "version": 3
   },
   "file_extension": ".py",
   "mimetype": "text/x-python",
   "name": "python",
   "nbconvert_exporter": "python",
   "pygments_lexer": "ipython3",
   "version": "3.7.6"
  }
 },
 "nbformat": 4,
 "nbformat_minor": 5
}
